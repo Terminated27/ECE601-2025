{
  "cells": [
    {
      "cell_type": "markdown",
      "metadata": {
        "id": "-BZGK1JByalx"
      },
      "source": [
        "# Clustering Homework: Iris Species Segmentation with K-means\n",
        "\n",
        "## Overview\n",
        "In this homework, you will apply K-means clustering to segment iris flowers based on their measurements. You’ll use the Iris dataset, a classic real-world dataset containing measurements of 150 iris flowers across three species. Your task is to determine the optimal number of clusters, apply K-means clustering, visualize the results, and interpret the clusters.\n",
        "\n",
        "## Dataset\n",
        "The Iris dataset is available through `scikit-learn` using `sklearn.datasets.load_iris()`. It includes the following features:\n",
        "- `sepal length (cm)`: Length of the sepal in centimeters\n",
        "- `sepal width (cm)`: Width of the sepal in centimeters\n",
        "- `petal length (cm)`: Length of the petal in centimeters\n",
        "- `petal width (cm)`: Width of the petal in centimeters\n",
        "\n",
        "For this assignment, you will use **only `sepal length (cm)` and `petal length (cm)`** as features for clustering.\n",
        "\n",
        "## Task\n",
        "Write a Python script in this notebook that performs the following steps:\n",
        "1. **Load the Dataset**: Load the Iris dataset from `scikit-learn` into a pandas DataFrame.\n",
        "2. **Preprocessing**: Select the `sepal length (cm)` and `petal length (cm)` columns as features for clustering.\n",
        "3. **Determine Optimal Clusters**: Use the Elbow Method to find the optimal number of clusters (`k`) for K-means clustering. Plot the Within-Cluster Sum of Squares (WCSS) against the number of clusters (try `k` from 1 to 10) and identify the \"elbow\" point.\n",
        "4. **Apply K-means Clustering**: Fit a K-means model to the selected features using the optimal `k` you determined. Assign each flower to a cluster.\n",
        "5. **Visualize the Results**: Create a scatter plot showing the clusters, with `sepal length (cm)` on the x-axis and `petal length (cm)` on the y-axis. Use different colors for each cluster and mark the cluster centroids.\n",
        "6. **Interpret the Clusters**: Write a brief (2-3 sentence) interpretation of the clusters based on their sepal and petal length patterns (e.g., \"Cluster 1 represents flowers with small sepal and petal lengths\").\n",
        "\n",
        "## Requirements\n",
        "- Use Python with the libraries: `pandas`, `numpy`, `matplotlib`, and `scikit-learn`.\n",
        "- Include comments in your code to explain each step.\n",
        "- Handle potential errors (e.g., missing data) with appropriate checks or assumptions.\n",
        "- Submit your completed notebook as a `.ipynb` file and include the plot as a saved image (e.g., `clusters.png`).\n",
        "\n",
        "## Starter Code\n",
        "Below is starter code with more guidance to help you begin. Complete the missing parts to finish the task."
      ]
    },
    {
      "cell_type": "code",
      "execution_count": null,
      "metadata": {
        "id": "7accojU9yaly"
      },
      "outputs": [],
      "source": [
        "# Import necessary libraries\n",
        "import pandas as pd\n",
        "import numpy as np\n",
        "import matplotlib.pyplot as plt\n",
        "from sklearn.cluster import KMeans\n",
        "from sklearn.datasets import load_iris\n",
        "\n",
        "# Set random seed for reproducibility\n",
        "np.random.seed(42)"
      ]
    },
    {
      "cell_type": "code",
      "execution_count": null,
      "metadata": {
        "id": "W53hr65ryalz"
      },
      "outputs": [],
      "source": [
        "# Step 1: Load the dataset\n",
        "iris = load_iris()\n",
        "data = pd.DataFrame(data=iris.data, columns=iris.feature_names)\n",
        "print(\"Dataset loaded successfully!\")\n",
        "print(data.head())\n",
        "\n",
        "# Step 2: Preprocessing - Select features for clustering\n",
        "# Select 'sepal length (cm)' and 'petal length (cm)' columns and convert to numpy array\n",
        "# YOUR CODE HERE\n",
        "X = # Fill this in\n",
        "\n",
        "# Check for missing values\n",
        "if np.any(np.isnan(X)):\n",
        "    print(\"Warning: Dataset contains missing values. Consider handling them.\")\n",
        "else:\n",
        "    print(\"No missing values in selected features.\")"
      ]
    },
    {
      "cell_type": "code",
      "execution_count": null,
      "metadata": {
        "id": "ygQktBYIyalz"
      },
      "outputs": [],
      "source": [
        "# We discussed the Elbow Method in Module 9 to determine the optimal number of clusters.\n",
        "# Step 3: Determine optimal number of clusters using the Elbow Method\n",
        "wcss = []  # Within-Cluster Sum of Squares\n",
        "for i in range(1, 11):\n",
        "    kmeans = KMeans(n_clusters=i, init='k-means++', max_iter=300, n_init=10, random_state=42)\n",
        "    kmeans.fit(X)  # Fit the model to your data\n",
        "    wcss.append(kmeans.inertia_)  # Append the WCSS value\n",
        "\n",
        "# Plot the Elbow Curve\n",
        "plt.figure(figsize=(8, 5))\n",
        "plt.plot(range(1, 11), wcss, marker='o')\n",
        "plt.title('Elbow Method for Optimal k')\n",
        "plt.xlabel('Number of Clusters (k)')\n",
        "plt.ylabel('WCSS')\n",
        "plt.grid(True)\n",
        "plt.show()\n",
        "\n",
        "# Choose the optimal k based on the elbow plot\n",
        "# YOUR CODE HERE\n",
        "optimal_k = # Fill this in after analyzing the plot (e.g., where the curve bends)"
      ]
    },
    {
      "cell_type": "code",
      "execution_count": null,
      "metadata": {
        "id": "COoQtAPVyalz"
      },
      "outputs": [],
      "source": [
        "# Step 4: Apply K-means clustering with optimal k\n",
        "# Initialize and fit KMeans with your chosen optimal_k\n",
        "# YOUR CODE HERE\n",
        "kmeans = # Fill this in\n",
        "cluster_labels = # Fit and predict cluster labels\n",
        "\n",
        "# Get cluster centroids\n",
        "centroids = kmeans.cluster_centers_\n",
        "\n",
        "# Step 5: Visualize the clusters\n",
        "plt.figure(figsize=(10, 6))\n",
        "# Loop through each cluster to plot points\n",
        "for i in range(optimal_k):\n",
        "    plt.scatter(X[cluster_labels == i, 0], X[cluster_labels == i, 1], s=50, label=f'Cluster {i+1}')\n",
        "# Plot centroids\n",
        "plt.scatter(centroids[:, 0], centroids[:, 1], s=200, c='black', marker='x', label='Centroids')\n",
        "plt.title('Iris Clusters based on Sepal and Petal Length')\n",
        "plt.xlabel('Sepal Length (cm)')\n",
        "plt.ylabel('Petal Length (cm)')\n",
        "plt.legend()\n",
        "plt.grid(True)\n",
        "# Save the plot\n",
        "# YOUR CODE HERE\n",
        "plt.show()"
      ]
    },
    {
      "cell_type": "markdown",
      "metadata": {
        "id": "k3JqsNdeyal0"
      },
      "source": [
        "## Step 6: Interpret the Clusters\n",
        "Write your interpretation here based on the scatter plot results (2-3 sentences):\n",
        "- Cluster 1: ...\n",
        "- Cluster 2: ...\n",
        "- Cluster 3: ..."
      ]
    },
    {
      "cell_type": "markdown",
      "metadata": {
        "id": "fVpLzxHDyal0"
      },
      "source": [
        "## Bonus (Optional)\n",
        "Experiment with adding `petal width (cm)` as a third feature and perform 3D clustering with visualization using `mpl_toolkits.mplot3d`. Discuss how including this feature changes the clustering results."
      ]
    }
  ],
  "metadata": {
    "kernelspec": {
      "display_name": "Python 3",
      "language": "python",
      "name": "python3"
    },
    "language_info": {
      "codemirror_mode": {
        "name": "ipython",
        "version": 3
      },
      "file_extension": ".py",
      "mimetype": "text/x-python",
      "name": "python",
      "nbconvert_exporter": "python",
      "pygments_lexer": "ipython3",
      "version": "3.8.5"
    },
    "colab": {
      "provenance": []
    }
  },
  "nbformat": 4,
  "nbformat_minor": 0
}