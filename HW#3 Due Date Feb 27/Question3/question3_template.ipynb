{
  "cells": [
    {
      "cell_type": "markdown",
      "metadata": {
        "id": "CazISR8X_HUG"
      },
      "source": [
        "#In this homework assignment, we apply Multiple Linear Regression (MLR) to a real, clean dataset."
      ]
    },
    {
      "cell_type": "code",
      "source": [
        "#@title Mounting your Google Drive\n",
        "from google.colab import drive\n",
        "drive.mount('/content/drive/', force_remount=True)"
      ],
      "metadata": {
        "id": "5POwnnt8HW9F"
      },
      "execution_count": null,
      "outputs": []
    },
    {
      "cell_type": "code",
      "execution_count": null,
      "metadata": {
        "id": "T_YHJjnD_Tja"
      },
      "outputs": [],
      "source": [
        "#@title Importing the libraries\n",
        "import numpy as np\n",
        "import matplotlib.pyplot as plt\n",
        "import pandas as pd\n",
        "\n",
        "from sklearn.metrics import mean_squared_error\n",
        "from sklearn.model_selection import train_test_split\n",
        "from sklearn.preprocessing import StandardScaler"
      ]
    },
    {
      "cell_type": "code",
      "execution_count": null,
      "metadata": {
        "id": "UrxyEKGn_ez7"
      },
      "outputs": [],
      "source": [
        "# Import the dataset (name it 'dataset') you have uplouaded into your Google Drive\n",
        "# Hint: use pandas AND read_csv\n",
        "\n",
        "'write your code here'"
      ]
    },
    {
      "cell_type": "code",
      "source": [
        "# Run this cell to see the first five rows of the dataset\n",
        "# Note: if you want to see more rows, use DS.head(number of rows)\n",
        "dataset.head()"
      ],
      "metadata": {
        "id": "bORrhqZ4jttX"
      },
      "execution_count": null,
      "outputs": []
    },
    {
      "cell_type": "code",
      "execution_count": null,
      "metadata": {
        "id": "KOZajWB8RZ5i"
      },
      "outputs": [],
      "source": [
        "# Check if there is any null values in the dataset DS\n",
        "# Hint: use isna() command\n",
        "# Expected output is shown is the text cell below.\n",
        "\n",
        "'write your code here'"
      ]
    },
    {
      "cell_type": "code",
      "execution_count": null,
      "metadata": {
        "id": "E4pckQhWRZ5i"
      },
      "outputs": [],
      "source": [
        "# Run this cell to see dataset information\n",
        "# Expected output is shown is the text cell below.\n",
        "dataset.info()"
      ]
    },
    {
      "cell_type": "code",
      "execution_count": null,
      "metadata": {
        "id": "5srlcKGtRZ5j"
      },
      "outputs": [],
      "source": [
        "# Select feature columns (feature matrix) by selecting all columns except the 'Profit'.\n",
        "# Name them 'X' as it would be a matrix\n",
        "# Hint: you can select columns by their names or drop the column that you don't want.\n",
        "\n",
        "'write your code here'\n",
        "\n",
        "X.head()"
      ]
    },
    {
      "cell_type": "code",
      "execution_count": null,
      "metadata": {
        "id": "zPkUVVv7RZ5j"
      },
      "outputs": [],
      "source": [
        "# Select the column that you want to predict, i.e., 'Profit'\n",
        "# Name it 'y' as it would be a vector.\n",
        "\n",
        "'write your code here'\n",
        "\n",
        "y.head()"
      ]
    },
    {
      "cell_type": "code",
      "execution_count": null,
      "metadata": {
        "id": "wV3fD1mbAvsh"
      },
      "outputs": [],
      "source": [
        "# You have to code catgorical data. To do so, use the following libraries.\n",
        "from sklearn.preprocessing import OneHotEncoder\n",
        "from sklearn.compose import ColumnTransformer\n",
        "\n",
        "# First step: select dataset column that you want to code.\n",
        "# Hint: we want to code 'State' column\n",
        "categorical_feature = 'write your code here'\n",
        "\n",
        "# Second step: defining the encoder\n",
        "one_hot = OneHotEncoder()\n",
        "\n",
        "# Third step: Define transformer to apply encoder, i.e., 'one_hot' to the selected dataset columns, i.e., 'categorical_feature'.\n",
        "# Hint: use 'ColumnTransformer' command\n",
        "transformer = 'write your code here'\n",
        "\n",
        "# Fourth step: Fit the defined transformer to the feature matrix X.\n",
        "# Hint: use 'fit_transform' command\n",
        "transformed_X = 'write your code here'"
      ]
    },
    {
      "cell_type": "code",
      "execution_count": null,
      "metadata": {
        "id": "4ym3HdYeCGYG"
      },
      "outputs": [],
      "source": [
        "# Run this cell to see the first five rows of transformed_X\n",
        "pd.DataFrame(transformed_X).head()"
      ]
    },
    {
      "cell_type": "code",
      "execution_count": null,
      "metadata": {
        "id": "Kb_v_ae-A-20"
      },
      "outputs": [],
      "source": [
        "# Split the dataset into the Training and Test sets using the imported library;\n",
        "# Consider test size to be 0.25 and random state to be 2509\n",
        "from sklearn.model_selection import train_test_split\n",
        "'write your code here'"
      ]
    },
    {
      "cell_type": "code",
      "source": [
        "# This cell standardized training and test data\n",
        "\n",
        "# Initialize the scaler\n",
        "scaler = StandardScaler()\n",
        "\n",
        "# Fit on training set only\n",
        "scaler.fit(X_train)\n",
        "\n",
        "# Apply transform to both the training set and the test set\n",
        "X_train_scaled = scaler.transform(X_train)\n",
        "X_test_scaled = scaler.transform(X_test)"
      ],
      "metadata": {
        "id": "yxZVtjzCg-TE"
      },
      "execution_count": null,
      "outputs": []
    },
    {
      "cell_type": "markdown",
      "metadata": {
        "id": "k-McZVsQBINc"
      },
      "source": [
        "# Training the Multiple Linear Regression model on the Training set"
      ]
    },
    {
      "cell_type": "code",
      "execution_count": null,
      "metadata": {
        "id": "ywPjx0L1BMiD"
      },
      "outputs": [],
      "source": [
        "# Train the Multiple Linear Regression model on the Training set\n",
        "\n",
        "# First step: import linear regression from sklearn\n",
        "'write your code here'\n",
        "\n",
        "# Second step: define regeressor using the imported linear regression\n",
        "regressor = 'write your code here'\n",
        "\n",
        "# Fit the defined regeressor to the traniing dataset, including X_train_scaled and y_train\n",
        "'write your code here'"
      ]
    },
    {
      "cell_type": "code",
      "execution_count": null,
      "metadata": {
        "id": "HAoYxG8-RZ5j"
      },
      "outputs": [],
      "source": [
        "# Evaulate the performance of your model on X_test_scaled and y_test.\n",
        "# In the context of multilinear regression),\n",
        "# Hint: use .score() method to return the coefficient of determination, also known as R² (R-squared).\n",
        "# We expect output > 0.98\n",
        "'write your code here'"
      ]
    },
    {
      "cell_type": "code",
      "source": [
        "# Apply cross validation (CV)\n",
        "\n",
        "# First step: import CV score from sklearn\n",
        "from sklearn.model_selection import cross_val_score\n",
        "\n",
        "# Second step: Apply K-Fold cross-validation\n",
        "# Hint: use the imported library, consider K=5, and use negative mean squared error for scoring\n",
        "cv_scores = 'write your code here'\n",
        "\n",
        "# Print the score mean (± standard deviation);\n",
        "# Hint: use mean() and std() commands\n",
        "'write your code here'"
      ],
      "metadata": {
        "id": "uAVHeGbJhms9"
      },
      "execution_count": null,
      "outputs": []
    },
    {
      "cell_type": "markdown",
      "metadata": {
        "id": "xNkXL1YQBiBT"
      },
      "source": [
        "# Predicting the Test set results"
      ]
    },
    {
      "cell_type": "code",
      "execution_count": null,
      "metadata": {
        "id": "TQKmwvtdBkyb"
      },
      "outputs": [],
      "source": [
        "# Apply the regressor on X_test_scaled to predict y_pred\n",
        "y_pred = 'write your code here'"
      ]
    },
    {
      "cell_type": "code",
      "execution_count": null,
      "metadata": {
        "id": "wcsMrRjARZ5k"
      },
      "outputs": [],
      "source": [
        "# This cell shows the actual label vector y_test and the predicted label vector y_pred\n",
        "d = {'y_pred': y_pred, 'y_test': y_test}\n",
        "pd.DataFrame(d)"
      ]
    },
    {
      "cell_type": "code",
      "source": [
        "# As an example metric, run this cell to determine Mean Squared Error\n",
        "mse = mean_squared_error(y_test, y_pred)\n",
        "print(\"Mean Squared Error:\", mse)"
      ],
      "metadata": {
        "id": "7rQWwv2RbwL5"
      },
      "execution_count": null,
      "outputs": []
    },
    {
      "cell_type": "markdown",
      "source": [
        "## **(2) Ridge Regression**"
      ],
      "metadata": {
        "id": "Xwn_Qll5fvTz"
      }
    },
    {
      "cell_type": "code",
      "source": [
        "# Apply the Ridge Regression\n",
        "\n",
        "# First step: import Ridge from sklearn\n",
        "from sklearn.linear_model import LinearRegression, Ridge\n",
        "\n",
        "# Define ridge_model based on the imported Ridge; consider alpha=1\n",
        "# alpha is the regularization strength\n",
        "ridge_model = 'write your code here'\n",
        "\n",
        "# Fit the ridge_model to the X_train_scaled and y_train\n",
        "'write your code here'"
      ],
      "metadata": {
        "id": "IrBaHBZHfz9U"
      },
      "execution_count": null,
      "outputs": []
    },
    {
      "cell_type": "code",
      "source": [
        "# Use Ridge Regression for prediction\n",
        "# Hint: Apply ridge_model to X_test_scaled\n",
        "y_pred_ridge = 'write your code here'\n",
        "\n",
        "# Determine mean squared error of the ridge_model\n",
        "# Between y_test and y_pred_ridge\n",
        "mse_ridge = 'write your code here'\n",
        "\n",
        "# print mse_ridge\n",
        "'write your code here'"
      ],
      "metadata": {
        "id": "OUOqE4wJf41E"
      },
      "execution_count": null,
      "outputs": []
    },
    {
      "cell_type": "code",
      "source": [
        "# Apply K-Fold cross-validation to ridge_model\n",
        "# Note: You have already imported CV score from sklearn\n",
        "# consider K=5, and use negative mean squared error for scoring\n",
        "ridge_cv_scores = 'write your code here'\n",
        "\n",
        "# Print CV MSE for Ridge Regression, i.e., the score mean (± standard deviation);\n",
        "'write your code here'"
      ],
      "metadata": {
        "id": "OkUtHOYHf7qP"
      },
      "execution_count": null,
      "outputs": []
    },
    {
      "cell_type": "markdown",
      "source": [
        "## **(3) Lasso Regression**"
      ],
      "metadata": {
        "id": "ChI3izSwf_KK"
      }
    },
    {
      "cell_type": "code",
      "source": [
        "# Apply the Lasso Regression\n",
        "\n",
        "# First step: import Lasso from sklearn\n",
        "from sklearn.linear_model import LinearRegression, Lasso\n",
        "\n",
        "# Define lasso_model based on the imported Lasso; consider alpha=0.25\n",
        "# alpha is the regularization strength\n",
        "lasso_model = 'write your code here'\n",
        "\n",
        "# Fit the lasso_model to the X_train_scaled and y_train\n",
        "'write your code here'"
      ],
      "metadata": {
        "id": "oLwNplyYf_tq"
      },
      "execution_count": null,
      "outputs": []
    },
    {
      "cell_type": "code",
      "source": [
        "# Use Lasso Regression for prediction\n",
        "# Hint: Apply lasso_model to X_test_scaled\n",
        "y_pred_lasso = 'write your code here'\n",
        "\n",
        "# Determine mean squared error of the lasso_model\n",
        "# Between y_test and y_pred_lasso\n",
        "mse_lasso = 'write your code here'\n",
        "\n",
        "# print mse_lasso\n",
        "'write your code here'"
      ],
      "metadata": {
        "id": "kAKHqWJ2gEiX"
      },
      "execution_count": null,
      "outputs": []
    },
    {
      "cell_type": "code",
      "source": [
        "# Apply K-Fold cross-validation to lasso_model\n",
        "# Note: You have already imported CV score from sklearn\n",
        "lasso_cv_scores = 'write your code here'\n",
        "\n",
        "# Print CV MSE for Lasso Regression, i.e., the score mean (± standard deviation);\n",
        "'write your code here'"
      ],
      "metadata": {
        "id": "3mIy9arzgG6l"
      },
      "execution_count": null,
      "outputs": []
    },
    {
      "cell_type": "code",
      "source": [
        "# Check Coefficients correspond to each feature;\n",
        "# Larger cofficient shows more impact of that feature on the output\n",
        "\n",
        "print(f'Coefficients of the original model are: {model.coef_}')\n",
        "print(f'Intercept of the original model is: {model.intercept_}')\n",
        "\n",
        "print(f'\\n Coefficients of the Ridge model are: {ridge_model.coef_}')\n",
        "print(f'Intercept of the Ridge model is: {ridge_model.intercept_}')\n",
        "\n",
        "print(f'\\n Coefficients of Ridge model are: {lasso_model.coef_}')\n",
        "print(f'Intercept of the Lasso model is: {lasso_model.intercept_}')"
      ],
      "metadata": {
        "id": "CY0TLndmgJbm"
      },
      "execution_count": null,
      "outputs": []
    }
  ],
  "metadata": {
    "colab": {
      "provenance": []
    },
    "kernelspec": {
      "display_name": "Python 3",
      "language": "python",
      "name": "python3"
    },
    "language_info": {
      "codemirror_mode": {
        "name": "ipython",
        "version": 3
      },
      "file_extension": ".py",
      "mimetype": "text/x-python",
      "name": "python",
      "nbconvert_exporter": "python",
      "pygments_lexer": "ipython3",
      "version": "3.7.9"
    }
  },
  "nbformat": 4,
  "nbformat_minor": 0
}